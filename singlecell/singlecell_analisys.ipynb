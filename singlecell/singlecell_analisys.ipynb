{
 "cells": [
  {
   "cell_type": "markdown",
   "id": "93598225-56f0-479e-8e13-bfba65ac5fd5",
   "metadata": {},
   "source": [
    "# Single Cell analisys of Mus musculus limb muscle tissue"
   ]
  },
  {
   "cell_type": "markdown",
   "id": "52f57b14-b051-46f5-b9a4-3da33b2dbda8",
   "metadata": {},
   "source": [
    "Data obtained from: https://datasets.cellxgene.cziscience.com/8efaf5ba-9121-451a-a4d4-d63add2404d8.h5ad"
   ]
  },
  {
   "cell_type": "markdown",
   "id": "f519d204-42b3-4647-b992-e58cc0360b66",
   "metadata": {},
   "source": [
    "### Import necessary libraries"
   ]
  },
  {
   "cell_type": "code",
   "execution_count": null,
   "id": "36480651-460e-45f3-909b-e3eeec1a6192",
   "metadata": {},
   "outputs": [],
   "source": [
    "import scanpy as sc\n",
    "import pandas as pd\n",
    "import anndata as ad\n",
    "from scipy.io import mmread"
   ]
  },
  {
   "cell_type": "markdown",
   "id": "04b3b7a8-5073-4a51-9d83-6fec1c53a4ed",
   "metadata": {},
   "source": [
    "### Load data into an AnnData object"
   ]
  },
  {
   "cell_type": "code",
   "execution_count": null,
   "id": "ab76b454-ff13-4c27-bda3-53614ff9da09",
   "metadata": {},
   "outputs": [],
   "source": [
    "adata = sc.read('limbmuscle_sc.h5ad')  # Read the reduced AnnData \n",
    "adata.var_names_make_unique()\n",
    "adata.var_names = adata.var_names.astype(str)  # Convert to string if categorical"
   ]
  },
  {
   "cell_type": "code",
   "execution_count": null,
   "id": "c125fbd7-b6db-46aa-9778-e2ecad64b39f",
   "metadata": {},
   "outputs": [],
   "source": [
    "adata.var_names = adata.var['feature_name']"
   ]
  },
  {
   "cell_type": "markdown",
   "id": "e4dfa70f-1509-45d1-b2cf-eb9ec9089b10",
   "metadata": {},
   "source": [
    "## Quality Control\n",
    "### Calculate percentage of mitochondrial genes to check quality of our data"
   ]
  },
  {
   "cell_type": "code",
   "execution_count": null,
   "id": "93556118-e8f8-48c5-adc9-1cc0628cce7c",
   "metadata": {},
   "outputs": [],
   "source": [
    "# mitochondrial genes start with \"Mt-\" for mouse\n",
    "adata.var[\"mt\"] = adata.var_names.str.startswith(\"Mt\")"
   ]
  },
  {
   "cell_type": "code",
   "execution_count": null,
   "id": "f91e9b27-aa0d-48e6-acd7-e3321ec2b031",
   "metadata": {},
   "outputs": [],
   "source": [
    "#Calculates metrics such as total_counts, nº of genes by counts and % of mitochondrial counts\n",
    "sc.pp.calculate_qc_metrics(adata, qc_vars=[\"mt\"], inplace=True, log1p=True)\n"
   ]
  },
  {
   "cell_type": "code",
   "execution_count": null,
   "id": "addf923c-3854-4ce9-96ff-0363cda410d4",
   "metadata": {
    "scrolled": true
   },
   "outputs": [],
   "source": [
    "# Violin plots to visualize the quality of our data\n",
    "sc.pl.violin(\n",
    "    adata,\n",
    "    [\"n_genes_by_counts\", \"total_counts\", \"pct_counts_mt\"],\n",
    "    jitter=0.4,\n",
    "    multi_panel=True,\n",
    ")"
   ]
  },
  {
   "cell_type": "markdown",
   "id": "9265d38f-5b34-463b-9813-3f2ef25526a0",
   "metadata": {},
   "source": [
    "By observing this plots we can say that our data has a high quality as the majority of cells have more than 3000 counts and there arent many high count cells which would indicate the presence of doublets. Moreover, we can see there is an average of more than 1000 genes by count.\n",
    "\n",
    "The average percentage of mitochondrial gene counts is well below 1% indicating that our data doesn't contain many damaged cells and has a high quality."
   ]
  },
  {
   "cell_type": "code",
   "execution_count": null,
   "id": "2e011e30-4399-4ec6-b2a2-44d7379f576c",
   "metadata": {},
   "outputs": [],
   "source": [
    "sc.pl.scatter(adata, \"total_counts\", \"n_genes_by_counts\", color=\"pct_counts_mt\")"
   ]
  },
  {
   "cell_type": "markdown",
   "id": "773ad157-6a12-475a-9a4b-ab3a3eb9dbc9",
   "metadata": {},
   "source": [
    "### Filtering"
   ]
  },
  {
   "cell_type": "markdown",
   "id": "24b23fb7-d95e-401a-b5b2-9e48928b3d3a",
   "metadata": {},
   "source": [
    "If our data has low quality we can filter cells that have a high percentage of mithocondrial gene counts, cells that have a low number of genes and/or genes that are only expressed in a few cells.\n",
    "\n",
    "In our case the quality of our data is quite high so it is not really necessary to perform this step"
   ]
  },
  {
   "cell_type": "code",
   "execution_count": null,
   "id": "832ad39d-0852-4c42-8bdf-698f7eb8d24c",
   "metadata": {},
   "outputs": [],
   "source": [
    "sc.pp.filter_cells(adata, min_genes=100) # filters cells that have a low number of counts (expressed genes)\n",
    "sc.pp.filter_genes(adata, min_cells=10) # filters genes that are expressed in less than 10 cells"
   ]
  },
  {
   "cell_type": "markdown",
   "id": "3dac6162-755c-474a-9e0c-416abcda4cd6",
   "metadata": {},
   "source": [
    "We can further filter our data by using a scanpy function to detect and remove doublets"
   ]
  },
  {
   "cell_type": "code",
   "execution_count": null,
   "id": "38b41ed8-fad5-46c5-9d16-c6737bef0fd9",
   "metadata": {},
   "outputs": [],
   "source": [
    "sc.pp.scrublet(adata, batch_key=\"age\", n_prin_comps=25)"
   ]
  },
  {
   "cell_type": "markdown",
   "id": "cfb09099-9691-4644-a35c-88a2148ecc1e",
   "metadata": {},
   "source": [
    "## Clustering"
   ]
  },
  {
   "cell_type": "markdown",
   "id": "68dcc3fd-667f-48cd-b806-870b1d96cbdb",
   "metadata": {},
   "source": [
    "We save the raw data in a layer of the AnnData object named \"counts\". This way we can transform the data without risk of losing our original data."
   ]
  },
  {
   "cell_type": "code",
   "execution_count": null,
   "id": "d25eb6cc-2d9b-442b-bcc9-3f282c314500",
   "metadata": {},
   "outputs": [],
   "source": [
    "# Saving count data\n",
    "adata.layers[\"counts\"] = adata.X.copy()"
   ]
  },
  {
   "cell_type": "markdown",
   "id": "8de60870-15bb-4706-9c7c-677500e1d16e",
   "metadata": {},
   "source": [
    "### Transforming our data and calculating PCs\n",
    "We normalize our data and calculate the highly variable genes to be able to clusterize our cells later on"
   ]
  },
  {
   "cell_type": "code",
   "execution_count": null,
   "id": "5bd3f3c2-681c-4a6f-9f4b-031c6f7d8e73",
   "metadata": {},
   "outputs": [],
   "source": [
    "# Normalizing to median total counts\n",
    "sc.pp.normalize_total(adata)\n",
    "# Logarithmize the data\n",
    "sc.pp.log1p(adata)"
   ]
  },
  {
   "cell_type": "code",
   "execution_count": null,
   "id": "974d0803-649f-4662-a578-ab4990f82426",
   "metadata": {},
   "outputs": [],
   "source": [
    "adata.obs[\"age\"] = adata.obs[\"age\"].astype(\"category\") # Transform age column into a category to use it as groups\n",
    "sc.pp.highly_variable_genes(adata, n_top_genes=2000, batch_key=\"age\") # Calculate the highly variable genes"
   ]
  },
  {
   "cell_type": "code",
   "execution_count": null,
   "id": "05ac898e-fb03-48f8-8be6-34892fe6ee6a",
   "metadata": {},
   "outputs": [],
   "source": [
    "# We can check if the gene we are interested in is highly variable\n",
    "if 'Myod1' in adata.var_names:\n",
    "    is_highly_variable = adata.var.loc['Myod1', 'highly_variable']\n",
    "    print(f\"Is Myod1 highly variable? {is_highly_variable}\")"
   ]
  },
  {
   "cell_type": "code",
   "execution_count": null,
   "id": "273651e6-788e-473c-8c98-52767218e22d",
   "metadata": {},
   "outputs": [],
   "source": [
    "# Elbow graphs showing the distributions of the highly variable genes\n",
    "sc.pl.highly_variable_genes(adata)"
   ]
  },
  {
   "cell_type": "markdown",
   "id": "8db39836-91dd-4f7c-a7c2-2462fbf8ba6e",
   "metadata": {},
   "source": [
    "We perform a principal component analisys (pca) to reduce the dimensionality of our data while preserving the most significant sources of variance."
   ]
  },
  {
   "cell_type": "code",
   "execution_count": null,
   "id": "db083f80-4741-4955-a576-3504a115bccb",
   "metadata": {},
   "outputs": [],
   "source": [
    "sc.tl.pca(adata)"
   ]
  },
  {
   "cell_type": "markdown",
   "id": "22d4b533-e379-454c-94ad-9ad33692cdaf",
   "metadata": {},
   "source": [
    "We can plot the variance ratio of each principal component (pc) to better understand how much variance is described by each pc."
   ]
  },
  {
   "cell_type": "code",
   "execution_count": null,
   "id": "05297c8e-bb2b-4e8a-86b3-7d37554dca5a",
   "metadata": {},
   "outputs": [],
   "source": [
    "sc.pl.pca_variance_ratio(adata, n_pcs=50, log=True)"
   ]
  },
  {
   "cell_type": "markdown",
   "id": "16b23431-6808-4b96-af7f-10e09a5c9955",
   "metadata": {},
   "source": [
    "### Calculating neighbors and clustering the data"
   ]
  },
  {
   "cell_type": "code",
   "execution_count": null,
   "id": "d5eabaf5-2fd4-4171-a133-22f5ff16b945",
   "metadata": {},
   "outputs": [],
   "source": [
    "sc.pp.neighbors(adata)"
   ]
  },
  {
   "cell_type": "code",
   "execution_count": null,
   "id": "ab93b039-e549-4bec-9810-85bd6dfe6c7d",
   "metadata": {},
   "outputs": [],
   "source": [
    "sc.tl.umap(adata)"
   ]
  },
  {
   "cell_type": "code",
   "execution_count": null,
   "id": "6e2c18e3-8347-41ee-b901-119712e3a808",
   "metadata": {
    "scrolled": true
   },
   "outputs": [],
   "source": [
    "sc.pl.umap(\n",
    "    adata,\n",
    "    color=\"cell_type\",\n",
    ")"
   ]
  },
  {
   "cell_type": "code",
   "execution_count": null,
   "id": "7b1f812f-9650-474e-81cf-51c2a3625443",
   "metadata": {},
   "outputs": [],
   "source": [
    "# Extract the expression values of 'Myod1' from the 'counts' layer\n",
    "myod1_counts = adata.layers[\"counts\"][:, adata.var_names.get_loc(\"Myod1\")].toarray().flatten()\n",
    "\n",
    "# Add Myod1 expression from raw counts to adata.obs for plotting\n",
    "adata.obs[\"Myod1_raw\"] = myod1_counts\n",
    "\n",
    "# Plot UMAP with Myod1 expression from raw counts\n",
    "sc.pl.umap(\n",
    "    adata, \n",
    "    color=\"Myod1_raw\",\n",
    "    size=50,\n",
    "    vmin=0,\n",
    "    vmax=10,\n",
    "    title=\"UMAP of Myod1 Expression\"\n",
    ")\n"
   ]
  },
  {
   "cell_type": "code",
   "execution_count": null,
   "id": "fc2d6881-fcbe-4632-b6bc-f3bdda7232be",
   "metadata": {},
   "outputs": [],
   "source": [
    "# Using the igraph implementation and a fixed number of iterations can be significantly faster, especially for larger datasets\n",
    "sc.tl.leiden(adata, flavor=\"igraph\", n_iterations=2)"
   ]
  },
  {
   "cell_type": "code",
   "execution_count": null,
   "id": "972894e7-5e6a-4b34-abb9-f3ded46a5ad7",
   "metadata": {},
   "outputs": [],
   "source": [
    "sc.pl.umap(\n",
    "    adata,\n",
    "    color=[\"leiden\", \"predicted_doublet\", \"doublet_score\"],\n",
    "    # increase horizontal space between panels\n",
    "    wspace=0.5,\n",
    "    size=3,\n",
    ")"
   ]
  },
  {
   "cell_type": "code",
   "execution_count": null,
   "id": "1f2003e5-b42d-4f93-8c58-ccbeb07eca97",
   "metadata": {},
   "outputs": [],
   "source": [
    "for res in [0.02, 0.5, 2.0]:\n",
    "    sc.tl.leiden(\n",
    "        adata, key_added=f\"leiden_res_{res:4.2f}\", resolution=res, flavor=\"igraph\"\n",
    "    )\n"
   ]
  },
  {
   "cell_type": "code",
   "execution_count": null,
   "id": "916776e8-ed57-4fc6-9bb4-f73bd9d8ea9a",
   "metadata": {},
   "outputs": [],
   "source": [
    "sc.pl.umap(\n",
    "    adata,\n",
    "    color=[\"leiden_res_0.02\", \"leiden_res_0.50\", \"leiden_res_2.00\"],\n",
    "    legend_loc=\"on data\",\n",
    ")"
   ]
  }
 ],
 "metadata": {
  "kernelspec": {
   "display_name": "Python 3 (ipykernel)",
   "language": "python",
   "name": "python3"
  },
  "language_info": {
   "codemirror_mode": {
    "name": "ipython",
    "version": 3
   },
   "file_extension": ".py",
   "mimetype": "text/x-python",
   "name": "python",
   "nbconvert_exporter": "python",
   "pygments_lexer": "ipython3",
   "version": "3.12.7"
  }
 },
 "nbformat": 4,
 "nbformat_minor": 5
}
